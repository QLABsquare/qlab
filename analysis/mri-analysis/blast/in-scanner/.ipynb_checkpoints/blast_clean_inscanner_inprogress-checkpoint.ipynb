{
 "cells": [
  {
   "cell_type": "code",
   "execution_count": 19,
   "metadata": {},
   "outputs": [],
   "source": [
    "import openpyxl as xl\n",
    "import xlrd\n",
    "import pandas as pd\n",
    "from pandas import ExcelWriter\n",
    "from openpyxl import load_workbook\n",
    "import csv\n",
    "import os\n",
    "\n",
    "#need something to convert file from csv to xlsx\n",
    "#need to create a loop on subjects, domains, and runs\n",
    "wb = xl.load_workbook('blast_a_001_auditory_1.xlsx') #load excel in to the python\n",
    "#wb = pd.read_csv('blast_a_001_auditory_1.csv')\n",
    "sheet = wb['blast_a_001_auditory_1']\n",
    "cell = sheet['f1']"
   ]
  },
  {
   "cell_type": "code",
   "execution_count": 24,
   "metadata": {},
   "outputs": [
    {
     "data": {
      "text/plain": [
       "<Cell 'blast_a_001_auditory_1'.B2>"
      ]
     },
     "execution_count": 24,
     "metadata": {},
     "output_type": "execute_result"
    }
   ],
   "source": [
    "cell"
   ]
  },
  {
   "cell_type": "code",
   "execution_count": 25,
   "metadata": {},
   "outputs": [
    {
     "name": "stdout",
     "output_type": "stream",
     "text": [
      "['R', 'S', 'R', 'S', 'R', 'S']\n"
     ]
    }
   ],
   "source": [
    "a = [] #creat a list to store R S B\n",
    "for row in range(1, sheet.max_row + 1):\n",
    "    cell = sheet.cell(row, 6)\n",
    "    for list in cell.value:\n",
    "        a.append(list)\n",
    "\n",
    "a = [x for x in a if x != 'B'] #Delete all the B's\n",
    "inRow = [] #create another list to store R and S without repeat\n",
    "last = None\n",
    "for x in a:\n",
    "        if last == x and (len(inRow) == 0 or inRow[-1] != x):\n",
    "            inRow.append(last)\n",
    "        last = x\n",
    "print(inRow)"
   ]
  },
  {
   "cell_type": "code",
   "execution_count": 26,
   "metadata": {},
   "outputs": [],
   "source": [
    "df = pd.DataFrame(inRow) #write the result into a new excel\n",
    "writer = ExcelWriter('blast_a_001_auditory_1_cleaned.xlsx')\n",
    "df.to_excel(writer,'Sheet1',index=False)\n",
    "writer.save()"
   ]
  }
 ],
 "metadata": {
  "kernelspec": {
   "display_name": "Python 3",
   "language": "python",
   "name": "python3"
  },
  "language_info": {
   "codemirror_mode": {
    "name": "ipython",
    "version": 3
   },
   "file_extension": ".py",
   "mimetype": "text/x-python",
   "name": "python",
   "nbconvert_exporter": "python",
   "pygments_lexer": "ipython3",
   "version": "3.7.0"
  }
 },
 "nbformat": 4,
 "nbformat_minor": 2
}
