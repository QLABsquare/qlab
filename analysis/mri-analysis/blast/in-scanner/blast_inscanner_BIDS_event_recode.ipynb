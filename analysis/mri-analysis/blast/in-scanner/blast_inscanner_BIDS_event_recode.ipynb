{
 "cells": [
  {
   "cell_type": "markdown",
   "metadata": {},
   "source": [
    "This script extracts raw in-scanner output files from NAS (QLAB server) and populates the events.tsv files within the BIDS structure. \n",
    "\n",
    "Your .tsv files are currently being populated via the following path (assumes you are remoting from a mac): \n",
    "/Volumes/data/projects/blast/data/bids/sub-blasta{}/func/sub-blasta{}_task-asl_run-{}_events.tsv\n",
    "\n",
    "If you want to update this path, alter the end of the script where this is noted. \n",
    "\n",
    "This script was written by Owen Li."
   ]
  },
  {
   "cell_type": "markdown",
   "metadata": {},
   "source": [
    "Load all libraries"
   ]
  },
  {
   "cell_type": "code",
   "execution_count": 2,
   "metadata": {},
   "outputs": [],
   "source": [
    "import pandas as pd\n",
    "from pandas import ExcelWriter\n",
    "from openpyxl import load_workbook\n",
    "import csv\n",
    "import os"
   ]
  },
  {
   "cell_type": "markdown",
   "metadata": {},
   "source": [
    "Establish folders and directories"
   ]
  },
  {
   "cell_type": "code",
   "execution_count": 3,
   "metadata": {},
   "outputs": [
    {
     "ename": "FileExistsError",
     "evalue": "[Errno 17] File exists: 'auditory_folder'",
     "output_type": "error",
     "traceback": [
      "\u001b[0;31m---------------------------------------------------------------------------\u001b[0m",
      "\u001b[0;31mFileExistsError\u001b[0m                           Traceback (most recent call last)",
      "\u001b[0;32m<ipython-input-3-b4c6fd4a19a8>\u001b[0m in \u001b[0;36m<module>\u001b[0;34m()\u001b[0m\n\u001b[1;32m      9\u001b[0m \u001b[0mvisual_times\u001b[0m \u001b[0;34m=\u001b[0m \u001b[0mvisual_times\u001b[0m\u001b[0;34m.\u001b[0m\u001b[0mdrop\u001b[0m\u001b[0;34m(\u001b[0m\u001b[0mvisual_times\u001b[0m\u001b[0;34m.\u001b[0m\u001b[0mcolumns\u001b[0m\u001b[0;34m[\u001b[0m\u001b[0;36m2\u001b[0m\u001b[0;34m]\u001b[0m\u001b[0;34m,\u001b[0m\u001b[0maxis\u001b[0m\u001b[0;34m=\u001b[0m\u001b[0;36m1\u001b[0m\u001b[0;34m)\u001b[0m\u001b[0;34m\u001b[0m\u001b[0m\n\u001b[1;32m     10\u001b[0m \u001b[0;34m\u001b[0m\u001b[0m\n\u001b[0;32m---> 11\u001b[0;31m \u001b[0mos\u001b[0m\u001b[0;34m.\u001b[0m\u001b[0mmakedirs\u001b[0m\u001b[0;34m(\u001b[0m\u001b[0mauditory_folder\u001b[0m\u001b[0;34m)\u001b[0m \u001b[0;31m#Creat a new folder to save new auditory excel files\u001b[0m\u001b[0;34m\u001b[0m\u001b[0m\n\u001b[0m\u001b[1;32m     12\u001b[0m \u001b[0mos\u001b[0m\u001b[0;34m.\u001b[0m\u001b[0mmakedirs\u001b[0m\u001b[0;34m(\u001b[0m\u001b[0mvisual_folder\u001b[0m\u001b[0;34m)\u001b[0m  \u001b[0;31m#Creat a new folder to save new visual excel files\u001b[0m\u001b[0;34m\u001b[0m\u001b[0m\n\u001b[1;32m     13\u001b[0m \u001b[0mauditory_files\u001b[0m \u001b[0;34m=\u001b[0m \u001b[0;34m[\u001b[0m\u001b[0;34m]\u001b[0m\u001b[0;34m\u001b[0m\u001b[0m\n",
      "\u001b[0;32m/Library/Frameworks/Python.framework/Versions/3.7/lib/python3.7/os.py\u001b[0m in \u001b[0;36mmakedirs\u001b[0;34m(name, mode, exist_ok)\u001b[0m\n\u001b[1;32m    219\u001b[0m             \u001b[0;32mreturn\u001b[0m\u001b[0;34m\u001b[0m\u001b[0m\n\u001b[1;32m    220\u001b[0m     \u001b[0;32mtry\u001b[0m\u001b[0;34m:\u001b[0m\u001b[0;34m\u001b[0m\u001b[0m\n\u001b[0;32m--> 221\u001b[0;31m         \u001b[0mmkdir\u001b[0m\u001b[0;34m(\u001b[0m\u001b[0mname\u001b[0m\u001b[0;34m,\u001b[0m \u001b[0mmode\u001b[0m\u001b[0;34m)\u001b[0m\u001b[0;34m\u001b[0m\u001b[0m\n\u001b[0m\u001b[1;32m    222\u001b[0m     \u001b[0;32mexcept\u001b[0m \u001b[0mOSError\u001b[0m\u001b[0;34m:\u001b[0m\u001b[0;34m\u001b[0m\u001b[0m\n\u001b[1;32m    223\u001b[0m         \u001b[0;31m# Cannot rely on checking for EEXIST, since the operating system\u001b[0m\u001b[0;34m\u001b[0m\u001b[0;34m\u001b[0m\u001b[0m\n",
      "\u001b[0;31mFileExistsError\u001b[0m: [Errno 17] File exists: 'auditory_folder'"
     ]
    }
   ],
   "source": [
    "folder_name = 'sl_raw_data'               #Old folder name\n",
    "\n",
    "auditory_folder = 'auditory_folder'\n",
    "visual_folder = 'visual_folder'\n",
    "auditory_times = pd.read_excel(\"EV_timing.xlsx\", 'Auditory_Times', index = False)\n",
    "visual_times = pd.read_excel(\"EV_timing.xlsx\", 'Visual_Times', index = False)\n",
    "\n",
    "auditory_times = auditory_times.drop(auditory_times.columns[2],axis=1)\n",
    "visual_times = visual_times.drop(visual_times.columns[2],axis=1)\n",
    "\n",
    "os.makedirs(auditory_folder) #Creat a new folder to save new auditory excel files\n",
    "os.makedirs(visual_folder)  #Creat a new folder to save new visual excel files\n",
    "auditory_files = []\n",
    "visual_files = []"
   ]
  },
  {
   "cell_type": "markdown",
   "metadata": {},
   "source": [
    "Run the following script to organize data"
   ]
  },
  {
   "cell_type": "code",
   "execution_count": null,
   "metadata": {},
   "outputs": [],
   "source": [
    "for i in os.listdir(folder_name): #load every file from the folder\n",
    "    if i.endswith('auditory_1.csv') or i.endswith('auditory_2.csv') or i.endswith('auditory_3.csv') or i.endswith('auditory_4.csv'):\n",
    "        auditory_files.append(i)\n",
    "    elif i.endswith('visual_1.csv') or i.endswith('visual_2.csv') or i.endswith('visual_3.csv') or i.endswith('visual_4.csv'):\n",
    "        visual_files.append(i)\n",
    "\n",
    "\n",
    "def save_new_folder(files, new_folder_name):\n",
    "    for list in files:\n",
    "\n",
    "        file = open(os.path.join(folder_name, list))  # load csv into the python\n",
    "        numline = len(file.readlines())\n",
    "\n",
    "        def read_cell(x, y):  # function that can read the cell\n",
    "            with open(os.path.join(folder_name, list), 'r') as f:\n",
    "                reader = csv.reader(f)\n",
    "                y_count = 0\n",
    "                for n in reader:\n",
    "                    if y_count == y:\n",
    "                        cell = n[x]\n",
    "                        return cell\n",
    "                    y_count += 1\n",
    "\n",
    "        a = []  # creat a list to store R S B\n",
    "        for i in range(1, numline + 1):\n",
    "            a.append(read_cell(5, i))\n",
    "        # cell = sheet.cell(row, 2)\n",
    "        # for list in cell.value:\n",
    "        #     a.append(list)\n",
    "\n",
    "        inRow = []  # create another list to store R and S without repeat\n",
    "        last = None\n",
    "        for x in a:\n",
    "            if last != x:\n",
    "                inRow.append(x)\n",
    "            last = x\n",
    "\n",
    "        inRow = [x for x in inRow if x != 'B']  # Delete all the B's\n",
    "        inRow = [x for x in inRow if x != None]\n",
    "        print(inRow)\n",
    "\n",
    "        s = 1\n",
    "        num = []\n",
    "\n",
    "        for y in inRow:\n",
    "            if y == 'S':\n",
    "                num.append(s)\n",
    "                s += 1\n",
    "            elif y == 'R':\n",
    "                num.append(1)\n",
    "        print(num)\n",
    "        # for f in os.listdir(folder_name): #rename the new excel file which is .xlsx file\n",
    "        f_name, f_ext = os.path.splitext(list)\n",
    "        new_ext = '.xlsx'\n",
    "        new_name = '{}{}'.format(f_name, new_ext)\n",
    "\n",
    "        df = pd.DataFrame(inRow)  # write the result into a new excel\n",
    "        dt = pd.DataFrame(num)\n",
    "        writer = ExcelWriter(os.path.join(new_folder_name, new_name))  # save every file to new folder\n",
    "        df.to_excel(writer, 'Sheet1', index=False, header=None, startrow=0, startcol=2)\n",
    "        dt.to_excel(writer,'Sheet1',index=False, header=None, startrow=0, startcol=3)\n",
    "        writer.save()\n",
    "\n",
    "\n",
    "save_new_folder(auditory_files, auditory_folder)\n",
    "save_new_folder(visual_files,visual_folder)\n",
    "\n",
    "def save_time(folder, time):\n",
    "    for i in os.listdir(folder):\n",
    "        book = load_workbook(os.path.join(folder, i))\n",
    "        writer = pd.ExcelWriter(os.path.join(folder, i), engine='openpyxl')\n",
    "        writer.book = book\n",
    "        writer.sheets = dict((ws.title, ws) for ws in book.worksheets)\n",
    "        time.to_excel(writer, 'Sheet1', index=False, startrow=0, startcol=0)\n",
    "        writer.save()\n",
    "\n",
    "save_time(auditory_folder,auditory_times)\n",
    "save_time(visual_folder,visual_times)\n",
    "\n",
    "\n",
    "\n",
    "\n",
    "for i in os.listdir('auditory_folder'):\n",
    "    for x in range(len(os.listdir('auditory_folder'))):\n",
    "        for y in range(4):\n",
    "            if ('blast_a_{}_auditory_{}.xlsx'.format('{0:03}'.format(x+1), y+1)) == i:\n",
    "                time = pd.read_excel('auditory_folder/blast_a_{}_auditory_{}.xlsx'.format('{0:03}'.format(x+1), y+1), index=False)\n",
    "                with open(os.path.join('/Volumes/data/projects/blast/data/bids/sub-blasta{}/func/sub-blasta{}_task-asl_run-{}_events.tsv'.format('{0:03}'.format(x+1),'{0:03}'.format(x+1),\n",
    "                                                                                                          '{0:02}'.format(y+1))), 'wt') as out_file:\n",
    "                    tsv_writer = csv.writer(out_file, delimiter='\\t')\n",
    "                    tsv_writer.writerow(['onset', 'duration', 'trial_type', 'block'])\n",
    "                    time.to_csv(out_file, index=False, sep='\\t')\n",
    "                print(('blast_a_{}_auditory_{}.xlsx'.format('{0:03}'.format(x+1), y+1)))\n",
    "\n",
    "\n",
    "for i in os.listdir('visual_folder'):\n",
    "    for x in range(len(os.listdir('visual_folder'))):\n",
    "        for y in range(4):\n",
    "            if ('blast_a_{}_visual_{}.xlsx'.format('{0:03}'.format(x+1), y+1)) == i:\n",
    "                time = pd.read_excel('visual_folder/blast_a_{}_visual_{}.xlsx'.format('{0:03}'.format(x+1), y+1), index=False)\n",
    "                with open(os.path.join('/Volumes/data/projects/blast/data/bids/sub-blasta{}/func/sub-blasta{}_task-vsl_run-{}_events.tsv'.format('{0:03}'.format(x+1),'{0:03}'.format(x+1),\n",
    "                                                                                                          '{0:02}'.format(y+1))), 'wt') as out_file:\n",
    "                    tsv_writer = csv.writer(out_file, delimiter='\\t')\n",
    "                    tsv_writer.writerow(['onset', 'duration', 'trial_type', 'block'])\n",
    "                    time.to_csv(out_file, index=False, sep='\\t')\n",
    "                print(('blast_a_{}_visual_{}.xlsx'.format('{0:03}'.format(x+1), y+1)))\n"
   ]
  }
 ],
 "metadata": {
  "kernelspec": {
   "display_name": "Python 3",
   "language": "python",
   "name": "python3"
  },
  "language_info": {
   "codemirror_mode": {
    "name": "ipython",
    "version": 3
   },
   "file_extension": ".py",
   "mimetype": "text/x-python",
   "name": "python",
   "nbconvert_exporter": "python",
   "pygments_lexer": "ipython3",
   "version": "3.7.0"
  }
 },
 "nbformat": 4,
 "nbformat_minor": 2
}
