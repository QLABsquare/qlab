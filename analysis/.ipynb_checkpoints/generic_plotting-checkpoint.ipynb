{
 "cells": [
  {
   "cell_type": "markdown",
   "metadata": {},
   "source": [
    "This script allows you to import your data and define your variables, then visualize that data using various methods. "
   ]
  },
  {
   "cell_type": "code",
   "execution_count": null,
   "metadata": {},
   "outputs": [],
   "source": [
    "import seaborn as sns\n",
    "import matplotlib.pyplot as plt\n",
    "import pandas as pd"
   ]
  },
  {
   "cell_type": "markdown",
   "metadata": {},
   "source": [
    "Change the following to establish your path and data (data) as well as your independent variable (yname), grouping variable (hue), and dependent variable (xName)."
   ]
  },
  {
   "cell_type": "code",
   "execution_count": null,
   "metadata": {},
   "outputs": [],
   "source": [
    "xName = 'MMN_amplitude'\n",
    "yName = 'raw_late_amplitude'\n",
    "hueName = 'global'                                              #change X Y HUE value here\n",
    "data = pd.read_csv(\"factor_blast.csv\")                          #the name of the file"
   ]
  },
  {
   "cell_type": "code",
   "execution_count": null,
   "metadata": {},
   "outputs": [],
   "source": [
    "sns.set(style=\"ticks\", color_codes=True)\n",
    "\n",
    "def scatterplot(xName, yName, hueName):\n",
    "    sns.scatterplot(x = xName, y = yName, hue = hueName, data = data)\n",
    "    plt.show()\n",
    "\n",
    "def catplot(xName, yName, hueName):\n",
    "    sns.catplot(x = xName, y = yName, hue = hueName, data = data)\n",
    "    plt.show()\n",
    "\n",
    "def lmplot(xName, yName, hueName):\n",
    "    sns.lmplot(x = xName, y = yName, hue = hueName, data = data)\n",
    "    plt.show()\n",
    "\n",
    "def relplot(xName, yName, hueName):\n",
    "    sns.relplot(x = xName, y = yName, hue = hueName, data = data)\n",
    "    plt.show()\n",
    "\n",
    "def boxplot(xName, yName):\n",
    "    sns.boxplot(x = xName, y = yName, data = data)\n",
    "    plt.show()\n",
    "\n",
    "def barplot(xName, yName):\n",
    "    sns.barplot(x = xName, y = yName, data = data)\n",
    "    plt.show()\n",
    "\n",
    "def jointplot(xName, yName):\n",
    "    sns.jointplot(x = xName, y = yName, data = data)\n",
    "    plt.show()\n",
    "\n",
    "def pairplot(hueName):\n",
    "    sns.pairplot(data = data, hue= hueName)\n",
    "    plt.show()\n",
    "\n",
    "scatterplot(xName, yName, hueName)                          #The functions above are some plot. Insert xName yName can simply draw the plot."
   ]
  }
 ],
 "metadata": {
  "kernelspec": {
   "display_name": "Python 3",
   "language": "python",
   "name": "python3"
  },
  "language_info": {
   "codemirror_mode": {
    "name": "ipython",
    "version": 3
   },
   "file_extension": ".py",
   "mimetype": "text/x-python",
   "name": "python",
   "nbconvert_exporter": "python",
   "pygments_lexer": "ipython3",
   "version": "3.7.0"
  }
 },
 "nbformat": 4,
 "nbformat_minor": 2
}
